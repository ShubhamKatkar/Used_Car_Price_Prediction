{
 "cells": [
  {
   "cell_type": "code",
   "execution_count": 1,
   "id": "00d3ea5c",
   "metadata": {},
   "outputs": [],
   "source": [
    "import pyspark\n",
    "import findspark\n",
    "from pyspark import SparkFiles\n",
    "import json\n",
    "findspark.init()\n",
    "findspark.find()\n",
    "from pyspark.sql.types import DoubleType\n",
    "\n",
    "from pyspark.ml import Pipeline\n",
    "from pyspark.ml.feature import StringIndexer, VectorAssembler\n",
    "from pyspark.ml.feature import OneHotEncoder, OneHotEncoderModel\n",
    "\n",
    "from pyspark.sql import SparkSession\n",
    "from pyspark.sql import SparkSession, SQLContext\n",
    "from pyspark import SparkConf, SparkContext\n",
    "\n",
    "from pyspark.sql.functions import isnan, when, count, col"
   ]
  },
  {
   "cell_type": "markdown",
   "id": "484efe17",
   "metadata": {},
   "source": [
    "# Download zip file "
   ]
  },
  {
   "cell_type": "code",
   "execution_count": 2,
   "id": "9fe116d2",
   "metadata": {},
   "outputs": [
    {
     "name": "stdout",
     "output_type": "stream",
     "text": [
      "Downloading started\n",
      "Downloading Completed\n"
     ]
    }
   ],
   "source": [
    "import requests, zipfile\n",
    "from io import BytesIO\n",
    "print('Downloading started')\n",
    "\n",
    "#Defining the zip file URL\n",
    "url = 'https://github.com/abhashpanwar/used-car-price-prediction/blob/master/vehiclesFinalData.zip?raw=true'\n",
    "\n",
    "# Split URL to get the file name\n",
    "filename = url.split('/')[-1]\n",
    "\n",
    "# Downloading the file by sending the request to the URL\n",
    "req = requests.get(url)\n",
    "print('Downloading Completed')\n",
    "\n",
    "# extracting the zip file contents\n",
    "zipfile= zipfile.ZipFile(BytesIO(req.content))\n",
    "zipfile.extractall(r'D:/Project')"
   ]
  },
  {
   "cell_type": "markdown",
   "id": "c0500f7e",
   "metadata": {},
   "source": [
    "# SparkSession"
   ]
  },
  {
   "cell_type": "code",
   "execution_count": 3,
   "id": "c8e58929",
   "metadata": {},
   "outputs": [],
   "source": [
    "# load mongo data\n",
    "# CarData = db name\n",
    "# car = collection name\n",
    "inputreq=\"mongodb://127.0.0.1/CarData.car\"\n",
    "outputreq=\"mongodb://127.0.0.1/CarData.car\""
   ]
  },
  {
   "cell_type": "code",
   "execution_count": 4,
   "id": "e9e4451d",
   "metadata": {},
   "outputs": [],
   "source": [
    "spark=SparkSession\\\n",
    "        .builder\\\n",
    "        .appName(\"carprediction\")\\\n",
    "        .config(\"spark.mongodb.input.uri\",inputreq)\\\n",
    "        .config(\"spark.mongodb.output.uri\",outputreq)\\\n",
    "        .config(\"spark.jars.packages\",\"org.mongodb.spark:mongo-spark-connector_2.12:2.4.2\")\\\n",
    "        .getOrCreate()"
   ]
  },
  {
   "cell_type": "code",
   "execution_count": 6,
   "id": "f44f09dd",
   "metadata": {},
   "outputs": [
    {
     "name": "stdout",
     "output_type": "stream",
     "text": [
      "+----------+--------------------+------+------------+--------------------+---------+-----------+-----------+--------+------------+------------+---------+---------+-----------+-----------+-------+--------+--------+\n",
      "|        id|              region|  year|manufacturer|               model|condition|  cylinders|       fuel|odometer|title_status|transmission|    drive|     size|       type|paint_color|    lat|    long|   price|\n",
      "+----------+--------------------+------+------------+--------------------+---------+-----------+-----------+--------+------------+------------+---------+---------+-----------+-----------+-------+--------+--------+\n",
      "|7119256118|       mohave county|2012.0|        jeep|             patriot| like new|4 cylinders|        gas|247071.0|       clean|   automatic|      4wd|full-size|    offroad|     silver|34.4554|-114.269|  3495.0|\n",
      "|7120880186|        oregon coast|2014.0|         bmw|        328i m-sport|     good|5 cylinders|        gas| 76237.0|       clean|   automatic|      rwd|full-size|      sedan|       grey|46.1837|-123.824| 13750.0|\n",
      "|7115048251|greenville / upstate|2001.0|       dodge|             caravan|excellent|6 cylinders|        gas|199000.0|       clean|   automatic|      4wd|full-size|    offroad|       grey|34.9352|-81.9654|  2300.0|\n",
      "|7119250502|       mohave county|2004.0|   chevrolet|         colorado ls|excellent|5 cylinders|        gas| 54000.0|       clean|   automatic|      rwd| mid-size|     pickup|        red|34.4783|-114.271|  9000.0|\n",
      "|7120430837|               maine|2005.0|        ford| mustang convertible|excellent|6 cylinders|        gas| 62800.0|       clean|   automatic|      rwd| mid-size|convertible|     silver| 44.207|-69.7858|  8500.0|\n",
      "|7120844862|        oregon coast|2004.0|       honda|odyssey ex-l, rel...|     fair|6 cylinders|        gas|102415.0|     rebuilt|   automatic|      fwd|full-size|        van|       grey|45.5772|-122.676|  5950.0|\n",
      "|7120836145|        oregon coast|2017.0|      toyota|tacoma sr v6 - tr...|     fair|6 cylinders|        gas| 19309.0|     rebuilt|   automatic|      4wd|full-size|      truck|       grey|45.5772|-122.676| 29500.0|\n",
      "|7119879480|       south florida|2016.0|        jeep|             compass|     fair|5 cylinders|        gas| 42500.0|       clean|   automatic|      4wd|full-size|    offroad|       grey| 25.813| -80.232|  1499.0|\n",
      "|7120429277|               maine|2006.0|   chevrolet|silverado 2500hd ...|     good|8 cylinders|        gas|165000.0|       clean|   automatic|      4wd|full-size|      truck|      white|43.2899| -70.855|  2750.0|\n",
      "|7119250376|       mohave county|2009.0|        jeep|             liberty| like new|6 cylinders|        gas|100950.7|       clean|   automatic|      4wd|full-size|    offroad|      black|34.5575|-114.331|  4995.0|\n",
      "|7119235169|       mohave county|2011.0|   chevrolet|            suburban|     fair|5 cylinders|        gas|137000.0|       clean|   automatic|      4wd|full-size|    offroad|       grey|34.5575|-114.331| 10988.0|\n",
      "|7119234657|       mohave county|2012.0|      nissan|        titan pro-4x|     fair|5 cylinders|        gas|150000.0|       clean|   automatic|      4wd|full-size|    offroad|       grey|34.5575|-114.331| 16988.0|\n",
      "|7120827892|        oregon coast|2010.0|        ford|e-series cargo e-...|     fair|8 cylinders|        gas| 85366.0|       clean|   automatic|      rwd|full-size|        van|       grey|45.5772|-122.676|  9995.0|\n",
      "|7120818939|        oregon coast|2018.0|      toyota|\"tacoma sr v6, 6\"...|       x\"|       fair|6 cylinders|     gas|      2875.0|     rebuilt|automatic|      4wd|  full-size|      truck|   grey| 45.5772|-122.676|\n",
      "|7116828828|              helena|2017.0|      subaru|outback 2.5i limited|excellent|4 cylinders|        gas| 32989.0|       clean|   automatic|      4wd|full-size|        SUV|       grey|45.6546|-110.561| 24930.0|\n",
      "|7120814236|        oregon coast|2009.0|       dodge|             journey|     fair|5 cylinders|        gas|106898.0|       clean|   automatic|      fwd|full-size|        SUV|       grey|45.5231|-122.579|  6995.0|\n",
      "|7120421995|               maine|1999.0|         gmc|    forester touring|     good|8 cylinders|        gas|184020.0|       clean|   automatic|      4wd|full-size|        SUV|      black|44.5543|-69.6178|  2200.0|\n",
      "|7120809454|        oregon coast|2006.0|      toyota|tacoma v6 - 4dr, ...|     fair|6 cylinders|        gas|135908.0|     rebuilt|   automatic|      4wd|full-size|      truck|       grey|45.5772|-122.676| 14450.0|\n",
      "|7120800371|        oregon coast|2019.0|      toyota|tundra sr5, new w...|     fair|8 cylinders|        gas| 11500.0|     rebuilt|   automatic|      4wd|full-size|      truck|       grey|45.5772|-122.676| 33600.0|\n",
      "|7120792291|        oregon coast|2019.0|        ford|fiesta se, reliab...|     fair|4 cylinders|        gas|   545.0|     rebuilt|   automatic|      fwd|full-size|      sedan|       grey|45.5772|-122.676|  9000.0|\n",
      "+----------+--------------------+------+------------+--------------------+---------+-----------+-----------+--------+------------+------------+---------+---------+-----------+-----------+-------+--------+--------+\n",
      "only showing top 20 rows\n",
      "\n"
     ]
    }
   ],
   "source": [
    "raw_df=spark.read.option(\"header\",\"true\").options(inferSchema='True',delimiter=',').csv(SparkFiles.get(r\"D:/project/vehiclesFinal.csv\"))\n",
    "raw_df.show()  "
   ]
  },
  {
   "cell_type": "code",
   "execution_count": 7,
   "id": "ee88a0ef",
   "metadata": {},
   "outputs": [
    {
     "name": "stdout",
     "output_type": "stream",
     "text": [
      "root\n",
      " |-- id: long (nullable = true)\n",
      " |-- region: string (nullable = true)\n",
      " |-- year: double (nullable = true)\n",
      " |-- manufacturer: string (nullable = true)\n",
      " |-- model: string (nullable = true)\n",
      " |-- condition: string (nullable = true)\n",
      " |-- cylinders: string (nullable = true)\n",
      " |-- fuel: string (nullable = true)\n",
      " |-- odometer: string (nullable = true)\n",
      " |-- title_status: string (nullable = true)\n",
      " |-- transmission: string (nullable = true)\n",
      " |-- drive: string (nullable = true)\n",
      " |-- size: string (nullable = true)\n",
      " |-- type: string (nullable = true)\n",
      " |-- paint_color: string (nullable = true)\n",
      " |-- lat: string (nullable = true)\n",
      " |-- long: double (nullable = true)\n",
      " |-- price: double (nullable = true)\n",
      "\n"
     ]
    }
   ],
   "source": [
    "raw_df.printSchema()"
   ]
  },
  {
   "cell_type": "code",
   "execution_count": 10,
   "id": "39b46ed7",
   "metadata": {},
   "outputs": [
    {
     "name": "stdout",
     "output_type": "stream",
     "text": [
      "+---+------+----+------------+-----+---------+---------+----+--------+------------+------------+-----+----+----+-----------+---+----+-----+\n",
      "| id|region|year|manufacturer|model|condition|cylinders|fuel|odometer|title_status|transmission|drive|size|type|paint_color|lat|long|price|\n",
      "+---+------+----+------------+-----+---------+---------+----+--------+------------+------------+-----+----+----+-----------+---+----+-----+\n",
      "|  0|     0|   0|           0|    0|        0|        0|   0|       0|           0|           0|    0|   0|   0|          0|  0|   0|    0|\n",
      "+---+------+----+------------+-----+---------+---------+----+--------+------------+------------+-----+----+----+-----------+---+----+-----+\n",
      "\n"
     ]
    }
   ],
   "source": [
    "raw_df.select([count(when(isnan(c), c)).alias(c) for c in raw_df.columns]).show()"
   ]
  },
  {
   "cell_type": "markdown",
   "id": "2bae2159",
   "metadata": {},
   "source": [
    "# drop column region and model"
   ]
  },
  {
   "cell_type": "code",
   "execution_count": 11,
   "id": "79b0bf62",
   "metadata": {},
   "outputs": [
    {
     "name": "stdout",
     "output_type": "stream",
     "text": [
      "+----------+------+------------+---------+-----------+----+--------+------------+------------+-----+---------+-----------+-----------+-------+--------+-------+\n",
      "|        id|  year|manufacturer|condition|  cylinders|fuel|odometer|title_status|transmission|drive|     size|       type|paint_color|    lat|    long|  price|\n",
      "+----------+------+------------+---------+-----------+----+--------+------------+------------+-----+---------+-----------+-----------+-------+--------+-------+\n",
      "|7119256118|2012.0|        jeep| like new|4 cylinders| gas|247071.0|       clean|   automatic|  4wd|full-size|    offroad|     silver|34.4554|-114.269| 3495.0|\n",
      "|7120880186|2014.0|         bmw|     good|5 cylinders| gas| 76237.0|       clean|   automatic|  rwd|full-size|      sedan|       grey|46.1837|-123.824|13750.0|\n",
      "|7115048251|2001.0|       dodge|excellent|6 cylinders| gas|199000.0|       clean|   automatic|  4wd|full-size|    offroad|       grey|34.9352|-81.9654| 2300.0|\n",
      "|7119250502|2004.0|   chevrolet|excellent|5 cylinders| gas| 54000.0|       clean|   automatic|  rwd| mid-size|     pickup|        red|34.4783|-114.271| 9000.0|\n",
      "|7120430837|2005.0|        ford|excellent|6 cylinders| gas| 62800.0|       clean|   automatic|  rwd| mid-size|convertible|     silver| 44.207|-69.7858| 8500.0|\n",
      "|7120844862|2004.0|       honda|     fair|6 cylinders| gas|102415.0|     rebuilt|   automatic|  fwd|full-size|        van|       grey|45.5772|-122.676| 5950.0|\n",
      "|7120836145|2017.0|      toyota|     fair|6 cylinders| gas| 19309.0|     rebuilt|   automatic|  4wd|full-size|      truck|       grey|45.5772|-122.676|29500.0|\n",
      "|7119879480|2016.0|        jeep|     fair|5 cylinders| gas| 42500.0|       clean|   automatic|  4wd|full-size|    offroad|       grey| 25.813| -80.232| 1499.0|\n",
      "|7120429277|2006.0|   chevrolet|     good|8 cylinders| gas|165000.0|       clean|   automatic|  4wd|full-size|      truck|      white|43.2899| -70.855| 2750.0|\n",
      "|7119250376|2009.0|        jeep| like new|6 cylinders| gas|100950.7|       clean|   automatic|  4wd|full-size|    offroad|      black|34.5575|-114.331| 4995.0|\n",
      "+----------+------+------------+---------+-----------+----+--------+------------+------------+-----+---------+-----------+-----------+-------+--------+-------+\n",
      "only showing top 10 rows\n",
      "\n"
     ]
    }
   ],
   "source": [
    "car=raw_df.drop(\"region\",\"model\")\n",
    "car.show(10)"
   ]
  },
  {
   "cell_type": "markdown",
   "id": "39974df2",
   "metadata": {},
   "source": [
    "# change data type accordingly"
   ]
  },
  {
   "cell_type": "code",
   "execution_count": 12,
   "id": "1801d062",
   "metadata": {},
   "outputs": [
    {
     "name": "stdout",
     "output_type": "stream",
     "text": [
      "root\n",
      " |-- id: long (nullable = true)\n",
      " |-- year: double (nullable = true)\n",
      " |-- manufacturer: string (nullable = true)\n",
      " |-- condition: string (nullable = true)\n",
      " |-- cylinders: string (nullable = true)\n",
      " |-- fuel: string (nullable = true)\n",
      " |-- odometer: double (nullable = true)\n",
      " |-- title_status: string (nullable = true)\n",
      " |-- transmission: string (nullable = true)\n",
      " |-- drive: string (nullable = true)\n",
      " |-- size: string (nullable = true)\n",
      " |-- type: string (nullable = true)\n",
      " |-- paint_color: string (nullable = true)\n",
      " |-- lat: double (nullable = true)\n",
      " |-- long: double (nullable = true)\n",
      " |-- price: double (nullable = true)\n",
      "\n"
     ]
    }
   ],
   "source": [
    "car_df = car.withColumn(\"odometer\", car[\"odometer\"].cast(DoubleType()))\n",
    "car_df = car_df.withColumn(\"lat\", car_df[\"lat\"].cast(DoubleType()))\n",
    "car_df.printSchema()"
   ]
  },
  {
   "cell_type": "code",
   "execution_count": 13,
   "id": "fb36deb8",
   "metadata": {},
   "outputs": [
    {
     "name": "stdout",
     "output_type": "stream",
     "text": [
      "+---+----+------------+---------+---------+----+--------+------------+------------+-----+----+----+-----------+---+----+-----+\n",
      "| id|year|manufacturer|condition|cylinders|fuel|odometer|title_status|transmission|drive|size|type|paint_color|lat|long|price|\n",
      "+---+----+------------+---------+---------+----+--------+------------+------------+-----+----+----+-----------+---+----+-----+\n",
      "|  0|   0|           0|        0|        0|   0|       0|           0|           0|    0|   0|   0|          0|  0|   0|    0|\n",
      "+---+----+------------+---------+---------+----+--------+------------+------------+-----+----+----+-----------+---+----+-----+\n",
      "\n"
     ]
    }
   ],
   "source": [
    "car_df.select([count(when(isnan(c), c)).alias(c) for c in car_df.columns]).show()"
   ]
  },
  {
   "cell_type": "markdown",
   "id": "564c0a2a",
   "metadata": {},
   "source": [
    "# to write the data into mongodb"
   ]
  },
  {
   "cell_type": "code",
   "execution_count": null,
   "id": "efed2d6c",
   "metadata": {},
   "outputs": [],
   "source": [
    "car_df.write.format(\"com.mongodb.spark.sql.DefaultSource\").option(\"database\",\"CarData\").option(\"collection\", \"car\").save()"
   ]
  },
  {
   "cell_type": "code",
   "execution_count": null,
   "id": "ac9556b2",
   "metadata": {},
   "outputs": [],
   "source": []
  }
 ],
 "metadata": {
  "kernelspec": {
   "display_name": "Python 3",
   "language": "python",
   "name": "python3"
  },
  "language_info": {
   "codemirror_mode": {
    "name": "ipython",
    "version": 3
   },
   "file_extension": ".py",
   "mimetype": "text/x-python",
   "name": "python",
   "nbconvert_exporter": "python",
   "pygments_lexer": "ipython3",
   "version": "3.8.8"
  }
 },
 "nbformat": 4,
 "nbformat_minor": 5
}
